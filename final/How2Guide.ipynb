{
 "cells": [
  {
   "cell_type": "markdown",
   "metadata": {},
   "source": [
    "# Faraday Complexity: A How to Guide\n",
    "\n",
    "In this Jupyter notebook, we'll give an overview of how our scripts work and how to utilize them for constructing and training neural networks to identity complex Faraday sources."
   ]
  },
  {
   "cell_type": "markdown",
   "metadata": {},
   "source": [
    "## Generating data with possum and simulate\n",
    "\n",
    "The *possum* and *simulate* classes are used to generate data. By itself, the functions with possum are more focused on creating a spectrum for a single source, while the inherited functions from simulate allow us to generate a large number of sources with a few function calls.\n",
    "\n",
    "Let's begin by importing the possum class. Since possum inherits simulate, it will automatically load simulate as well."
   ]
  },
  {
   "cell_type": "code",
   "execution_count": 1,
   "metadata": {
    "collapsed": true
   },
   "outputs": [],
   "source": [
    "from possum import *"
   ]
  },
  {
   "cell_type": "markdown",
   "metadata": {},
   "source": [
    "There are a few frequency bands that are already part of the possum class: ASKAP 12 (700 - 1300 MHz, 1500 - 1800 MHz), ASKAP 36 (1130 - 1430 MHZ), and the Westerbork Synthesis Radio Telescope (WRST, 310 - 380 MHz). These can be created by calling the functions\n",
    "\n",
    "    _createASKAP12()\n",
    "    _createASKAP36()\n",
    "    _createWSRT()\n",
    "    \n",
    "which store the frequencies in the variable \n",
    "\n",
    "    nu_\n",
    "    \n",
    "If you need another frequency range, *_createFrequency* will be of good use. It takes three parameters: the minimum (*numin*) and maximum (*numax*) frequencies, as well as the number of channels (*nchan*):\n",
    "    \n",
    "    _createFrequency(numin=700., numax=1800., nchan=100.)\n",
    "    \n",
    "As an example of how this class works, we can create the ASKAP 12 coverage by running the following commands and verify that our range is over the proper frequency range:"
   ]
  },
  {
   "cell_type": "code",
   "execution_count": 2,
   "metadata": {},
   "outputs": [
    {
     "name": "stdout",
     "output_type": "stream",
     "text": [
      "Min Frequency (Hz): 7.000000e+08\n",
      "Max Frequency (Hz): 1.800000e+09\n"
     ]
    }
   ],
   "source": [
    "spec = possum()\n",
    "spec._createASKAP12()\n",
    "\n",
    "print('Min Frequency (Hz): {:e}'.format(spec.nu_.min()))\n",
    "print('Max Frequency (Hz): {:e}'.format(spec.nu_.max()))"
   ]
  },
  {
   "cell_type": "markdown",
   "metadata": {},
   "source": [
    "## Building CNNs with inception"
   ]
  },
  {
   "cell_type": "code",
   "execution_count": null,
   "metadata": {
    "collapsed": true
   },
   "outputs": [],
   "source": []
  }
 ],
 "metadata": {
  "kernelspec": {
   "display_name": "Python 3",
   "language": "python",
   "name": "python3"
  },
  "language_info": {
   "codemirror_mode": {
    "name": "ipython",
    "version": 3
   },
   "file_extension": ".py",
   "mimetype": "text/x-python",
   "name": "python",
   "nbconvert_exporter": "python",
   "pygments_lexer": "ipython3",
   "version": "3.5.2"
  }
 },
 "nbformat": 4,
 "nbformat_minor": 2
}
